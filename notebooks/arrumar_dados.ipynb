{
 "cells": [
  {
   "cell_type": "code",
   "execution_count": 63,
   "id": "ccb98952",
   "metadata": {},
   "outputs": [],
   "source": [
    "import pandas as pd\n",
    "import ast"
   ]
  },
  {
   "cell_type": "code",
   "execution_count": 64,
   "id": "58fad7a4",
   "metadata": {},
   "outputs": [],
   "source": [
    "frutas = pd.read_csv(\"frutas.csv\", sep=\";\")\n",
    "mercados = pd.read_csv(\"info.csv\")"
   ]
  },
  {
   "cell_type": "code",
   "execution_count": 65,
   "id": "d575d892",
   "metadata": {},
   "outputs": [],
   "source": [
    "# converter valores para float\n",
    "frutas[\"Custo Unitário\"] = frutas[\"Custo Unitário\"].str.replace(r'R\\$\\s*', '', regex=True).str.replace(',', '.').astype(float)\n",
    "frutas[\"ID\"] = frutas[\"ID\"].astype(int)\n",
    "mercados['numeros'] = mercados['numeros'].apply(ast.literal_eval)"
   ]
  },
  {
   "cell_type": "code",
   "execution_count": null,
   "id": "68a75df5",
   "metadata": {},
   "outputs": [],
   "source": [
    "# criar um dicionário com os IDs e as comidas\n",
    "id_genero = frutas.set_index('ID')[\"Gênero Alimentício\"].to_dict()"
   ]
  },
  {
   "cell_type": "code",
   "execution_count": null,
   "id": "6b35a9b7",
   "metadata": {},
   "outputs": [],
   "source": [
    "# Criar as colunas de comidas unicas\n",
    "generos_unicos = frutas[\"Gênero Alimentício\"].unique()\n",
    "for genero in generos_unicos:\n",
    "    mercados[genero] = False"
   ]
  },
  {
   "cell_type": "code",
   "execution_count": null,
   "id": "5abdf7fc",
   "metadata": {},
   "outputs": [],
   "source": [
    "# Aplicando True or False para cada comida, caso o produtor tenha em estoque\n",
    "\n",
    "for idx, row in mercados.iterrows():\n",
    "    numeros = row['numeros']\n",
    "    for id_produto, genero in id_genero.items():\n",
    "        if id_produto in numeros:\n",
    "            mercados.at[idx, genero] = True\n",
    "\n",
    "mercados = mercados.drop(columns=['numeros'])"
   ]
  },
  {
   "cell_type": "code",
   "execution_count": null,
   "id": "c5c3bb0c",
   "metadata": {},
   "outputs": [],
   "source": [
    "mercados.to_csv(\"mercados_atualizado.csv\", sep=\";\", index=False)"
   ]
  }
 ],
 "metadata": {
  "kernelspec": {
   "display_name": "base",
   "language": "python",
   "name": "python3"
  },
  "language_info": {
   "codemirror_mode": {
    "name": "ipython",
    "version": 3
   },
   "file_extension": ".py",
   "mimetype": "text/x-python",
   "name": "python",
   "nbconvert_exporter": "python",
   "pygments_lexer": "ipython3",
   "version": "3.12.3"
  }
 },
 "nbformat": 4,
 "nbformat_minor": 5
}
