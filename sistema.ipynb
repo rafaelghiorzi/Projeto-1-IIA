{
 "cells": [
  {
   "cell_type": "code",
   "execution_count": 16,
   "id": "cb2dd9f4",
   "metadata": {},
   "outputs": [],
   "source": [
    "import pandas as pd"
   ]
  },
  {
   "cell_type": "code",
   "execution_count": 17,
   "id": "545cf052",
   "metadata": {},
   "outputs": [],
   "source": [
    "dados = pd.read_csv(\"produtores.csv\", sep=\",\")"
   ]
  },
  {
   "cell_type": "code",
   "execution_count": 21,
   "id": "a13955ff",
   "metadata": {},
   "outputs": [],
   "source": [
    "def filtro_distancia():\n",
    "    \"\"\"\n",
    "    Filtar os produtores de acordo com a distância que eles estão de você.\n",
    "    \"\"\""
   ]
  },
  {
   "cell_type": "code",
   "execution_count": 22,
   "id": "9ba9d365",
   "metadata": {},
   "outputs": [],
   "source": [
    "def filtro_preferencia():\n",
    "    \"\"\"\n",
    "    Filtrar os produtores de acordo com o que o usuário está procurando por.\n",
    "    \"\"\""
   ]
  },
  {
   "cell_type": "code",
   "execution_count": null,
   "id": "fe210fa0",
   "metadata": {},
   "outputs": [],
   "source": [
    "def filtro_colaborativo():\n",
    "    \"\"\"\n",
    "    Filtrar os produtores de acordo com produtores similares.\n",
    "    Utilizando matriz de similaridade.\n",
    "    Com revisões e pontiação para recomendações personalizadas.\n",
    "    \"\"\""
   ]
  }
 ],
 "metadata": {
  "kernelspec": {
   "display_name": "base",
   "language": "python",
   "name": "python3"
  },
  "language_info": {
   "codemirror_mode": {
    "name": "ipython",
    "version": 3
   },
   "file_extension": ".py",
   "mimetype": "text/x-python",
   "name": "python",
   "nbconvert_exporter": "python",
   "pygments_lexer": "ipython3",
   "version": "3.12.3"
  }
 },
 "nbformat": 4,
 "nbformat_minor": 5
}
